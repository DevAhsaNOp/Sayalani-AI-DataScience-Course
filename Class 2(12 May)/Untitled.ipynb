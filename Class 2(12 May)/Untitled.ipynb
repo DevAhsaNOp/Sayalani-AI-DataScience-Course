{
 "cells": [
  {
   "cell_type": "markdown",
   "id": "016e9445",
   "metadata": {},
   "source": [
    "# **Python Class 2**"
   ]
  },
  {
   "cell_type": "markdown",
   "id": "e41dfb71",
   "metadata": {},
   "source": [
    "## **Print Function**\n",
    "Print is a python built in funtion used to print the statement\n",
    "#### **Analyzing the Print Function and its Argument**"
   ]
  },
  {
   "cell_type": "code",
   "execution_count": 4,
   "id": "78d82a58",
   "metadata": {},
   "outputs": [
    {
     "name": "stdout",
     "output_type": "stream",
     "text": [
      "Pakistan Zindabad\n"
     ]
    }
   ],
   "source": [
    "print(\"Pakistan Zindabad\")\n",
    "#name  Argument\n",
    "#This statement prints the  Pakistan Zindabad"
   ]
  },
  {
   "cell_type": "code",
   "execution_count": 5,
   "id": "c16ea456",
   "metadata": {},
   "outputs": [
    {
     "name": "stdout",
     "output_type": "stream",
     "text": [
      "I am a string value 11 12.5 True False\n"
     ]
    }
   ],
   "source": [
    "print(\"I am a string value\",11,12.5,True,False)"
   ]
  },
  {
   "cell_type": "markdown",
   "id": "12fea224",
   "metadata": {},
   "source": [
    "### Using **sep** which controls the value separation between them"
   ]
  },
  {
   "cell_type": "code",
   "execution_count": 16,
   "id": "e534e6d9",
   "metadata": {},
   "outputs": [
    {
     "name": "stdout",
     "output_type": "stream",
     "text": [
      "I am a string value1112.5TrueFalse\n"
     ]
    }
   ],
   "source": [
    "print(\"I am a string value\",11,12.5,True,False,sep='')"
   ]
  },
  {
   "cell_type": "code",
   "execution_count": 17,
   "id": "60c78375",
   "metadata": {},
   "outputs": [
    {
     "name": "stdout",
     "output_type": "stream",
     "text": [
      "I am a string value********11********12.5********True********False\n"
     ]
    }
   ],
   "source": [
    "print(\"I am a string value\",11,12.5,True,False,sep='********')"
   ]
  },
  {
   "cell_type": "markdown",
   "id": "0785d184",
   "metadata": {},
   "source": [
    "### Using **end** which controls the end of line "
   ]
  },
  {
   "cell_type": "code",
   "execution_count": 14,
   "id": "348bbc8d",
   "metadata": {},
   "outputs": [
    {
     "name": "stdout",
     "output_type": "stream",
     "text": [
      "Python for allHello python\n"
     ]
    }
   ],
   "source": [
    "print(\"Python for all\",end='')\n",
    "print(\"Hello python\")"
   ]
  },
  {
   "cell_type": "markdown",
   "id": "edfafcd2",
   "metadata": {},
   "source": [
    "### Data Type in Python:\n",
    "- String\n",
    "- Integer (Whole Numbers)\n",
    "- Float (decimal Numbers)\n",
    "- Boolean (True, False)"
   ]
  },
  {
   "cell_type": "markdown",
   "id": "fc53334d",
   "metadata": {},
   "source": [
    "# Variable:\n",
    "   ####    Variable are the indentifier or the thing who can stores any value in it "
   ]
  },
  {
   "cell_type": "code",
   "execution_count": 32,
   "id": "2cb8d53d",
   "metadata": {},
   "outputs": [],
   "source": [
    "age = 23\n",
    "\n",
    "# Here, we createed the variable with name age who contain an Integer value 23. "
   ]
  },
  {
   "cell_type": "code",
   "execution_count": 33,
   "id": "7b660a68",
   "metadata": {},
   "outputs": [],
   "source": [
    "name = \"Ahsan\""
   ]
  },
  {
   "cell_type": "code",
   "execution_count": 34,
   "id": "9bfa3122",
   "metadata": {},
   "outputs": [
    {
     "data": {
      "text/plain": [
       "23"
      ]
     },
     "execution_count": 34,
     "metadata": {},
     "output_type": "execute_result"
    }
   ],
   "source": [
    "age"
   ]
  },
  {
   "cell_type": "code",
   "execution_count": 35,
   "id": "7646b2e4",
   "metadata": {},
   "outputs": [
    {
     "data": {
      "text/plain": [
       "'Ahsan'"
      ]
     },
     "execution_count": 35,
     "metadata": {},
     "output_type": "execute_result"
    }
   ],
   "source": [
    "name"
   ]
  },
  {
   "cell_type": "code",
   "execution_count": 36,
   "id": "c9143072",
   "metadata": {},
   "outputs": [
    {
     "data": {
      "text/plain": [
       "2117022445232"
      ]
     },
     "execution_count": 36,
     "metadata": {},
     "output_type": "execute_result"
    }
   ],
   "source": [
    "#id function is used to find the memory address of the anything \n",
    "\n",
    "id(name)"
   ]
  },
  {
   "cell_type": "code",
   "execution_count": 37,
   "id": "fe7e9a2f",
   "metadata": {},
   "outputs": [
    {
     "name": "stdout",
     "output_type": "stream",
     "text": [
      "\n"
     ]
    },
    {
     "data": {
      "text/plain": [
       "140718287690968"
      ]
     },
     "execution_count": 37,
     "metadata": {},
     "output_type": "execute_result"
    }
   ],
   "source": [
    "id(print())"
   ]
  },
  {
   "cell_type": "code",
   "execution_count": 38,
   "id": "b3cfb08c",
   "metadata": {},
   "outputs": [
    {
     "data": {
      "text/plain": [
       "int"
      ]
     },
     "execution_count": 38,
     "metadata": {},
     "output_type": "execute_result"
    }
   ],
   "source": [
    "#type is used to find the Data type\n",
    "type(age)"
   ]
  },
  {
   "cell_type": "code",
   "execution_count": 39,
   "id": "d75e92bd",
   "metadata": {},
   "outputs": [
    {
     "data": {
      "text/plain": [
       "str"
      ]
     },
     "execution_count": 39,
     "metadata": {},
     "output_type": "execute_result"
    }
   ],
   "source": [
    "type(name)"
   ]
  },
  {
   "cell_type": "markdown",
   "id": "928370e9",
   "metadata": {},
   "source": [
    "# Operators\n",
    "- Addition (+)\n",
    "- Subtraction (-)\n",
    "- Multiplication (*)\n",
    "- Division (/) and (//)"
   ]
  },
  {
   "cell_type": "code",
   "execution_count": 52,
   "id": "44e8d96b",
   "metadata": {},
   "outputs": [],
   "source": [
    "marks = 50"
   ]
  },
  {
   "cell_type": "code",
   "execution_count": 41,
   "id": "db8b5e78",
   "metadata": {},
   "outputs": [
    {
     "data": {
      "text/plain": [
       "50"
      ]
     },
     "execution_count": 41,
     "metadata": {},
     "output_type": "execute_result"
    }
   ],
   "source": [
    "marks"
   ]
  },
  {
   "cell_type": "code",
   "execution_count": 53,
   "id": "d38a6281",
   "metadata": {},
   "outputs": [
    {
     "data": {
      "text/plain": [
       "90"
      ]
     },
     "execution_count": 53,
     "metadata": {},
     "output_type": "execute_result"
    }
   ],
   "source": [
    "marks + 40"
   ]
  },
  {
   "cell_type": "code",
   "execution_count": 54,
   "id": "a7fb6824",
   "metadata": {},
   "outputs": [
    {
     "name": "stdout",
     "output_type": "stream",
     "text": [
      "115\n"
     ]
    }
   ],
   "source": [
    "marks = marks + 65\n",
    "print(marks)"
   ]
  },
  {
   "cell_type": "code",
   "execution_count": 55,
   "id": "2ba56002",
   "metadata": {},
   "outputs": [
    {
     "data": {
      "text/plain": [
       "23"
      ]
     },
     "execution_count": 55,
     "metadata": {},
     "output_type": "execute_result"
    }
   ],
   "source": [
    "age"
   ]
  },
  {
   "cell_type": "code",
   "execution_count": 56,
   "id": "3aa4ff85",
   "metadata": {},
   "outputs": [],
   "source": [
    "age += 1.5"
   ]
  },
  {
   "cell_type": "code",
   "execution_count": 57,
   "id": "98657613",
   "metadata": {},
   "outputs": [
    {
     "data": {
      "text/plain": [
       "24.5"
      ]
     },
     "execution_count": 57,
     "metadata": {},
     "output_type": "execute_result"
    }
   ],
   "source": [
    "age"
   ]
  },
  {
   "cell_type": "code",
   "execution_count": 60,
   "id": "ba7557a0",
   "metadata": {},
   "outputs": [],
   "source": [
    "age -= 1 "
   ]
  },
  {
   "cell_type": "code",
   "execution_count": 61,
   "id": "613c5622",
   "metadata": {},
   "outputs": [
    {
     "data": {
      "text/plain": [
       "22.5"
      ]
     },
     "execution_count": 61,
     "metadata": {},
     "output_type": "execute_result"
    }
   ],
   "source": [
    "age"
   ]
  },
  {
   "cell_type": "code",
   "execution_count": 62,
   "id": "7d324a43",
   "metadata": {},
   "outputs": [
    {
     "data": {
      "text/plain": [
       "2.0"
      ]
     },
     "execution_count": 62,
     "metadata": {},
     "output_type": "execute_result"
    }
   ],
   "source": [
    "10/5"
   ]
  },
  {
   "cell_type": "code",
   "execution_count": 66,
   "id": "7a0c30f9",
   "metadata": {},
   "outputs": [
    {
     "data": {
      "text/plain": [
       "3"
      ]
     },
     "execution_count": 66,
     "metadata": {},
     "output_type": "execute_result"
    }
   ],
   "source": [
    "# // is used to give the answer in integer\n",
    "10//3"
   ]
  },
  {
   "cell_type": "code",
   "execution_count": 75,
   "id": "c0dacfa4",
   "metadata": {},
   "outputs": [
    {
     "name": "stdout",
     "output_type": "stream",
     "text": [
      "23\n",
      "24\n"
     ]
    }
   ],
   "source": [
    "import math as n\n",
    "\n",
    "print(n.floor(23.9))\n",
    "print(n.ceil(23.3))"
   ]
  },
  {
   "cell_type": "code",
   "execution_count": 79,
   "id": "90890739",
   "metadata": {},
   "outputs": [
    {
     "name": "stdout",
     "output_type": "stream",
     "text": [
      "5\n"
     ]
    }
   ],
   "source": [
    "x = round(5.49)\n",
    "print(x)"
   ]
  },
  {
   "cell_type": "code",
   "execution_count": 82,
   "id": "4850fc80",
   "metadata": {},
   "outputs": [
    {
     "name": "stdout",
     "output_type": "stream",
     "text": [
      "My name is Ahsan\n",
      "My Full name is Ahsan Nadeem\n"
     ]
    }
   ],
   "source": [
    "message = \"My name is Ahsan\"\n",
    "print(message)\n",
    "message = \"My Full name is Ahsan Nadeem\"\n",
    "print(message)"
   ]
  },
  {
   "cell_type": "code",
   "execution_count": 83,
   "id": "1dcd0be7",
   "metadata": {},
   "outputs": [
    {
     "name": "stdout",
     "output_type": "stream",
     "text": [
      "23\n",
      "26\n"
     ]
    }
   ],
   "source": [
    "message = 23\n",
    "print(message)\n",
    "message = 26\n",
    "print(message)"
   ]
  },
  {
   "cell_type": "markdown",
   "id": "ec845643",
   "metadata": {},
   "source": [
    "## Variable name is legal and Illegal\n",
    "- Reserved words which are already used in python "
   ]
  },
  {
   "cell_type": "code",
   "execution_count": 91,
   "id": "59fc9f06",
   "metadata": {},
   "outputs": [],
   "source": [
    "math = 23"
   ]
  },
  {
   "cell_type": "code",
   "execution_count": 92,
   "id": "d001dd2f",
   "metadata": {},
   "outputs": [
    {
     "data": {
      "text/plain": [
       "23"
      ]
     },
     "execution_count": 92,
     "metadata": {},
     "output_type": "execute_result"
    }
   ],
   "source": [
    "math"
   ]
  },
  {
   "cell_type": "code",
   "execution_count": 94,
   "id": "4abb1150",
   "metadata": {},
   "outputs": [],
   "source": [
    "father_name= \"Nadeem\""
   ]
  },
  {
   "cell_type": "code",
   "execution_count": 95,
   "id": "cee8009c",
   "metadata": {},
   "outputs": [],
   "source": [
    "student = \"Saad\"\n",
    "student1 = \"Khan Sahab\""
   ]
  },
  {
   "cell_type": "code",
   "execution_count": 103,
   "id": "1c5b170f",
   "metadata": {},
   "outputs": [
    {
     "name": "stdout",
     "output_type": "stream",
     "text": [
      "Saad Khan Sahab\n"
     ]
    }
   ],
   "source": [
    "print(student,student1)"
   ]
  },
  {
   "cell_type": "code",
   "execution_count": 105,
   "id": "db11c1c0",
   "metadata": {},
   "outputs": [
    {
     "name": "stdout",
     "output_type": "stream",
     "text": [
      "53\n"
     ]
    }
   ],
   "source": [
    "import sys\n",
    "print(sys.getsizeof(student))"
   ]
  },
  {
   "cell_type": "markdown",
   "id": "f36ab442",
   "metadata": {},
   "source": [
    "## User Input"
   ]
  },
  {
   "cell_type": "code",
   "execution_count": 116,
   "id": "64582a17",
   "metadata": {},
   "outputs": [
    {
     "name": "stdout",
     "output_type": "stream",
     "text": [
      "Enter your name: Ahsan\n",
      "Enter your age: 25\n",
      "My name is:  Ahsan and age is:  25\n"
     ]
    }
   ],
   "source": [
    "name = input(\"Enter your name: \")\n",
    "age = input(\"Enter your age: \")\n",
    "print(\"My name is: \",name,\"and age is: \",age)"
   ]
  },
  {
   "cell_type": "code",
   "execution_count": 114,
   "id": "ceeac3c4",
   "metadata": {},
   "outputs": [],
   "source": [
    "age = 23"
   ]
  },
  {
   "cell_type": "code",
   "execution_count": 113,
   "id": "36a5d544",
   "metadata": {},
   "outputs": [
    {
     "data": {
      "text/plain": [
       "int"
      ]
     },
     "execution_count": 113,
     "metadata": {},
     "output_type": "execute_result"
    }
   ],
   "source": [
    "type(age)"
   ]
  },
  {
   "cell_type": "markdown",
   "id": "187d7d45",
   "metadata": {},
   "source": [
    "## String Concatenation"
   ]
  },
  {
   "cell_type": "code",
   "execution_count": 118,
   "id": "ad0b6a48",
   "metadata": {},
   "outputs": [
    {
     "name": "stdout",
     "output_type": "stream",
     "text": [
      "My name is: Ahsan and age is: 25\n"
     ]
    }
   ],
   "source": [
    "Data = \"My name is: \"+name+\" and age is: \"+age\n",
    "print(Data)"
   ]
  },
  {
   "cell_type": "markdown",
   "id": "46ce3ff8",
   "metadata": {},
   "source": [
    "## Type Casting"
   ]
  },
  {
   "cell_type": "code",
   "execution_count": 121,
   "id": "a7da2df5",
   "metadata": {},
   "outputs": [
    {
     "data": {
      "text/plain": [
       "'23'"
      ]
     },
     "execution_count": 121,
     "metadata": {},
     "output_type": "execute_result"
    }
   ],
   "source": [
    "number_of_apples = \"23\"\n",
    "number_of_apples"
   ]
  },
  {
   "cell_type": "code",
   "execution_count": 124,
   "id": "d9855c41",
   "metadata": {},
   "outputs": [
    {
     "data": {
      "text/plain": [
       "24"
      ]
     },
     "execution_count": 124,
     "metadata": {},
     "output_type": "execute_result"
    }
   ],
   "source": [
    "number_of_apples= int(number_of_apples)   #Type  casting or you may say data type changing\n",
    "number_of_apples += 1\n",
    "number_of_apples"
   ]
  },
  {
   "cell_type": "code",
   "execution_count": 125,
   "id": "1b02fd5d",
   "metadata": {},
   "outputs": [
    {
     "name": "stdout",
     "output_type": "stream",
     "text": [
      "Enter your name: Ahsan\n",
      "Enter your age: 25\n",
      "My name is: Ahsan and age is: 25\n"
     ]
    }
   ],
   "source": [
    "name = input(\"Enter your name: \")\n",
    "age = int(input(\"Enter your age: \"))\n",
    "Data = \"My name is: \"+name+\" and age is: \"+str(age)\n",
    "print(Data)\n"
   ]
  },
  {
   "cell_type": "code",
   "execution_count": null,
   "id": "4cd61f3b",
   "metadata": {},
   "outputs": [],
   "source": []
  }
 ],
 "metadata": {
  "kernelspec": {
   "display_name": "Python 3 (ipykernel)",
   "language": "python",
   "name": "python3"
  },
  "language_info": {
   "codemirror_mode": {
    "name": "ipython",
    "version": 3
   },
   "file_extension": ".py",
   "mimetype": "text/x-python",
   "name": "python",
   "nbconvert_exporter": "python",
   "pygments_lexer": "ipython3",
   "version": "3.9.7"
  }
 },
 "nbformat": 4,
 "nbformat_minor": 5
}
